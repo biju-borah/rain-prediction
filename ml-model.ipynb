{
 "cells": [
  {
   "cell_type": "code",
   "execution_count": 15,
   "metadata": {},
   "outputs": [],
   "source": [
    "import matplotlib.pyplot as plt\n",
    "import pandas as pd\n",
    "import numpy as np\n",
    "import sklearn as sk\n",
    "from sklearn.linear_model import LinearRegression"
   ]
  },
  {
   "cell_type": "code",
   "execution_count": 16,
   "metadata": {},
   "outputs": [],
   "source": [
    "data = pd.read_csv(\"trainingSet_final.csv\")\n",
    "\n",
    "#all the coloumn are features or X value for our training model\n",
    "#Precipitation coloum will serve as label or Y value of our training model\n",
    "X = data.drop(['PrecipitationSumInches'], axis=1)\n",
    "Y = data['PrecipitationSumInches']\n",
    "\n",
    "#reshaping it into 2d vector\n",
    "Y = Y.values.reshape(-1,1)"
   ]
  },
  {
   "cell_type": "code",
   "execution_count": 17,
   "metadata": {},
   "outputs": [
    {
     "data": {
      "text/plain": [
       "LinearRegression()"
      ]
     },
     "execution_count": 17,
     "metadata": {},
     "output_type": "execute_result"
    }
   ],
   "source": [
    "lr = LinearRegression()\n",
    "lr.fit(X,Y)"
   ]
  },
  {
   "cell_type": "code",
   "execution_count": 20,
   "metadata": {},
   "outputs": [
    {
     "name": "stdout",
     "output_type": "stream",
     "text": [
      "[[74.   60.   45.   67.   49.   43.   93.   75.   57.   29.68 10.    7.\n",
      "   2.   20.    4.   31.  ]]\n"
     ]
    }
   ],
   "source": [
    "inp = np.array([[74],[60],[45],[67],[49],[43],[93],[75],[57],[29.68],[10],[7],[2],[20],[4],[31]])\n",
    "inp = inp.reshape(1, -1)\n",
    "print(inp)"
   ]
  },
  {
   "cell_type": "code",
   "execution_count": 19,
   "metadata": {},
   "outputs": [
    {
     "name": "stdout",
     "output_type": "stream",
     "text": [
      "Predicted Precipitation: [[0.96212252]]\n"
     ]
    }
   ],
   "source": [
    "print(\"Predicted Precipitation:\",lr.predict(inp))"
   ]
  }
 ],
 "metadata": {
  "interpreter": {
   "hash": "ff9db6032680a9186e25d534ad7bf31d811c4189ec0c430e84c175dca2f4f4b9"
  },
  "kernelspec": {
   "display_name": "Python 3.8.6 64-bit",
   "language": "python",
   "name": "python3"
  },
  "language_info": {
   "codemirror_mode": {
    "name": "ipython",
    "version": 3
   },
   "file_extension": ".py",
   "mimetype": "text/x-python",
   "name": "python",
   "nbconvert_exporter": "python",
   "pygments_lexer": "ipython3",
   "version": "3.8.6"
  },
  "orig_nbformat": 4
 },
 "nbformat": 4,
 "nbformat_minor": 2
}
