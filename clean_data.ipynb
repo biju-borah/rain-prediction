{
 "cells": [
  {
   "cell_type": "code",
   "execution_count": 19,
   "metadata": {},
   "outputs": [],
   "source": [
    "import pandas as pd\n",
    "import numpy as np"
   ]
  },
  {
   "cell_type": "code",
   "execution_count": 20,
   "metadata": {},
   "outputs": [],
   "source": [
    "data = pd.read_csv(\"trainingSet.csv\")\n",
    "testingData = pd.read_csv(\"trainingSet.csv\")\n",
    "\n",
    "\n",
    "#axis = 0 refers to horizontal axis or rows and axis = 1 refers to vertical axis or columns.\n",
    "#drop / delete unneccesary data from the coloumn \n",
    "data = data.drop(['Events', 'Date', 'SeaLevelPressureHighInches', \n",
    "                  'SeaLevelPressureLowInches'], axis = 1)\n",
    "testingData = testingData.drop(['Events', 'Date', 'SeaLevelPressureHighInches', \n",
    "                  'SeaLevelPressureLowInches'], axis = 1)"
   ]
  },
  {
   "cell_type": "code",
   "execution_count": 21,
   "metadata": {},
   "outputs": [],
   "source": [
    "#some values have T which represent Trace rainfall\n",
    "#and some have - which represent no or nil\n",
    "#we need to replace those values so that we are only feeding numbers to the ML model\n",
    "\n",
    "data = data.replace('T',0.0)\n",
    "data = data.replace('-',0.0)\n",
    "testingData = testingData.replace('T',0.0)\n",
    "testingData = testingData.replace('-',0.0)"
   ]
  },
  {
   "cell_type": "code",
   "execution_count": 22,
   "metadata": {},
   "outputs": [],
   "source": [
    "data.to_csv(\"trainingSet_final.csv\",index=False)\n",
    "testingData.to_csv(\"testingSet_final.csv\",index=False)"
   ]
  }
 ],
 "metadata": {
  "interpreter": {
   "hash": "ff9db6032680a9186e25d534ad7bf31d811c4189ec0c430e84c175dca2f4f4b9"
  },
  "kernelspec": {
   "display_name": "Python 3.8.6 64-bit",
   "language": "python",
   "name": "python3"
  },
  "language_info": {
   "codemirror_mode": {
    "name": "ipython",
    "version": 3
   },
   "file_extension": ".py",
   "mimetype": "text/x-python",
   "name": "python",
   "nbconvert_exporter": "python",
   "pygments_lexer": "ipython3",
   "version": "3.8.6"
  },
  "orig_nbformat": 4
 },
 "nbformat": 4,
 "nbformat_minor": 2
}
